{
 "cells": [
  {
   "cell_type": "markdown",
   "metadata": {},
   "source": [
    "## Performing Data Wrangling with PySpark\n",
    "\n",
    "I recently completed __PySpark Essentials for Data Scientists (Big Data + Python)__ by **_Layla AI_** on udemy.com, [course link here!](https://www.udemy.com/course/pyspark-essentials-for-data-scientists-big-data-python/learn/lecture/20165434?start=1#overview), but I never had time to showcase my newly acquired PySpark skills. However, I got to work today, and herein is a sneak peek into __Data wrangling with PySpark__.\n",
    "\n",
    "Our objective is to highlight some of the primary data manipulation techniques within PySpark. And as usual, we're using our favorite dataset - [South Sudan 2008 Census Data](https://southsudan.opendataforafrica.org/fvjqdpe/population-by-age-and-sex-2008-south-sudan)."
   ]
  },
  {
   "cell_type": "markdown",
   "metadata": {},
   "source": [
    "We begin by importing pyspark and SparkSession from the pyspark.sql module and then initializing the `SparkSession`. This article assumes that you have already installed PySpark with the necessary dependencies; otherwise, please see the installation instructions [here](https://spark.apache.org/docs/latest/api/python/getting_started/install.html) - we recommend installing PySpark through anaconda, especially if you are new to Python."
   ]
  },
  {
   "cell_type": "markdown",
   "metadata": {},
   "source": [
    "### Importing the Modules"
   ]
  },
  {
   "cell_type": "code",
   "execution_count": 213,
   "metadata": {
    "ExecuteTime": {
     "end_time": "2021-07-05T22:09:41.108579Z",
     "start_time": "2021-07-05T22:09:41.072814Z"
    }
   },
   "outputs": [
    {
     "name": "stdout",
     "output_type": "stream",
     "text": [
      "You are working with 1 core(s)\n"
     ]
    },
    {
     "data": {
      "text/html": [
       "\n",
       "            <div>\n",
       "                <p><b>SparkSession - in-memory</b></p>\n",
       "                \n",
       "        <div>\n",
       "            <p><b>SparkContext</b></p>\n",
       "\n",
       "            <p><a href=\"http://aliers-mbp.attlocal.net:4040\">Spark UI</a></p>\n",
       "\n",
       "            <dl>\n",
       "              <dt>Version</dt>\n",
       "                <dd><code>v3.1.1</code></dd>\n",
       "              <dt>Master</dt>\n",
       "                <dd><code>local[*]</code></dd>\n",
       "              <dt>AppName</dt>\n",
       "                <dd><code>data wrangling</code></dd>\n",
       "            </dl>\n",
       "        </div>\n",
       "        \n",
       "            </div>\n",
       "        "
      ],
      "text/plain": [
       "<pyspark.sql.session.SparkSession at 0x7faa51559e50>"
      ]
     },
     "execution_count": 213,
     "metadata": {},
     "output_type": "execute_result"
    }
   ],
   "source": [
    "# Import pyspark and SparkSession\n",
    "import pyspark \n",
    "from pyspark.sql import SparkSession\n",
    "\n",
    "# Initialize PySpark session\n",
    "spark = SparkSession.builder.appName(\"data wrangling\").getOrCreate()\n",
    "\n",
    "# Add the core usage information\n",
    "cores = spark._jsc.sc().getExecutorMemoryStatus().keySet().size()\n",
    "print(\"You are working with\", cores, \"core(s)\")\n",
    "\n",
    "# Display the spark session information\n",
    "spark"
   ]
  },
  {
   "cell_type": "markdown",
   "metadata": {},
   "source": [
    "### Importing the Data\n",
    "\n",
    "Here, we import the dataset by creating the path within the current directory. Next, we combine the path with the file name, and then we tell `PySpark` to infer column data types, and we indicate that our dataset contains column names."
   ]
  },
  {
   "cell_type": "code",
   "execution_count": 214,
   "metadata": {
    "ExecuteTime": {
     "end_time": "2021-07-05T22:09:46.544563Z",
     "start_time": "2021-07-05T22:09:45.048224Z"
    }
   },
   "outputs": [],
   "source": [
    "# Import the dataset\n",
    "\n",
    "path = 'Datasets/'\n",
    "\n",
    "ss_2008_data_raw = spark.read.csv(path + 'ss_2008_census_data.csv', inferSchema = True, header = True)"
   ]
  },
  {
   "cell_type": "markdown",
   "metadata": {},
   "source": [
    "We display the first 10 rows of our dataset with the show() method. And we also indicate that we want `PySpark` to show column contents without truncating them."
   ]
  },
  {
   "cell_type": "code",
   "execution_count": 215,
   "metadata": {
    "ExecuteTime": {
     "end_time": "2021-07-05T22:09:55.381338Z",
     "start_time": "2021-07-05T22:09:54.846587Z"
    }
   },
   "outputs": [
    {
     "name": "stdout",
     "output_type": "stream",
     "text": [
      "+------+-----------+-----------------+--------+--------------------------+------+--------+-----+-------+------+\n",
      "|Region|Region Name|Region - RegionId|Variable|Variable Name             |Age   |Age Name|Scale|Units  |2008  |\n",
      "+------+-----------+-----------------+--------+--------------------------+------+--------+-----+-------+------+\n",
      "|KN.A2 |Upper Nile |SS-NU            |KN.B2   |Population, Total (Number)|KN.C1 |Total   |units|Persons|964353|\n",
      "|KN.A2 |Upper Nile |SS-NU            |KN.B2   |Population, Total (Number)|KN.C2 |0 to 4  |units|Persons|150872|\n",
      "|KN.A2 |Upper Nile |SS-NU            |KN.B2   |Population, Total (Number)|KN.C3 |5 to 9  |units|Persons|151467|\n",
      "|KN.A2 |Upper Nile |SS-NU            |KN.B2   |Population, Total (Number)|KN.C4 |10 to 14|units|Persons|126140|\n",
      "|KN.A2 |Upper Nile |SS-NU            |KN.B2   |Population, Total (Number)|KN.C5 |15 to 19|units|Persons|103804|\n",
      "|KN.A2 |Upper Nile |SS-NU            |KN.B2   |Population, Total (Number)|KN.C6 |20 to 24|units|Persons|82588 |\n",
      "|KN.A2 |Upper Nile |SS-NU            |KN.B2   |Population, Total (Number)|KN.C7 |25 to 29|units|Persons|76754 |\n",
      "|KN.A2 |Upper Nile |SS-NU            |KN.B2   |Population, Total (Number)|KN.C8 |30 to 34|units|Persons|63134 |\n",
      "|KN.A2 |Upper Nile |SS-NU            |KN.B2   |Population, Total (Number)|KN.C9 |35 to 39|units|Persons|56806 |\n",
      "|KN.A2 |Upper Nile |SS-NU            |KN.B2   |Population, Total (Number)|KN.C10|40 to 44|units|Persons|42139 |\n",
      "+------+-----------+-----------------+--------+--------------------------+------+--------+-----+-------+------+\n",
      "only showing top 10 rows\n",
      "\n"
     ]
    }
   ],
   "source": [
    "# Inspect the first 5 rows of the original dataset\n",
    "ss_2008_data_raw.show(10, truncate = False)"
   ]
  },
  {
   "cell_type": "markdown",
   "metadata": {},
   "source": [
    "Next, we inspect the Schema (or column data types), and we see that all the columns are of string data type; however, the last column, '2008', which is the population column, should be an integer. So we'll change it later."
   ]
  },
  {
   "cell_type": "code",
   "execution_count": 216,
   "metadata": {
    "ExecuteTime": {
     "end_time": "2021-07-05T22:10:04.933464Z",
     "start_time": "2021-07-05T22:10:04.913778Z"
    }
   },
   "outputs": [
    {
     "name": "stdout",
     "output_type": "stream",
     "text": [
      "root\n",
      " |-- Region: string (nullable = true)\n",
      " |-- Region Name: string (nullable = true)\n",
      " |-- Region - RegionId: string (nullable = true)\n",
      " |-- Variable: string (nullable = true)\n",
      " |-- Variable Name: string (nullable = true)\n",
      " |-- Age: string (nullable = true)\n",
      " |-- Age Name: string (nullable = true)\n",
      " |-- Scale: string (nullable = true)\n",
      " |-- Units: string (nullable = true)\n",
      " |-- 2008: string (nullable = true)\n",
      "\n",
      "None\n"
     ]
    }
   ],
   "source": [
    "# Inspect column data types\n",
    "print(ss_2008_data_raw.printSchema())"
   ]
  },
  {
   "cell_type": "markdown",
   "metadata": {},
   "source": [
    "### Selecting the Columns\n",
    "\n",
    "Below, we select the columns of interest with the `select()` method. Next, we inspect the updated dataset with the show() function and toPandas() method. The toPandas() method shows the dataset in a `Python` format; however, it's computationally expensive and should be avoided unless necessary."
   ]
  },
  {
   "cell_type": "code",
   "execution_count": 217,
   "metadata": {
    "ExecuteTime": {
     "end_time": "2021-07-05T22:10:10.661640Z",
     "start_time": "2021-07-05T22:10:10.010924Z"
    }
   },
   "outputs": [
    {
     "name": "stdout",
     "output_type": "stream",
     "text": [
      "+-----------+--------------------------+--------+------+\n",
      "|Region Name|Variable Name             |Age Name|2008  |\n",
      "+-----------+--------------------------+--------+------+\n",
      "|Upper Nile |Population, Total (Number)|Total   |964353|\n",
      "|Upper Nile |Population, Total (Number)|0 to 4  |150872|\n",
      "|Upper Nile |Population, Total (Number)|5 to 9  |151467|\n",
      "|Upper Nile |Population, Total (Number)|10 to 14|126140|\n",
      "|Upper Nile |Population, Total (Number)|15 to 19|103804|\n",
      "+-----------+--------------------------+--------+------+\n",
      "only showing top 5 rows\n",
      "\n"
     ]
    }
   ],
   "source": [
    "# Select the columns to focus on\n",
    "ss_2008_data_cleaned = ss_2008_data_raw.select('Region Name', 'Variable Name', 'Age Name', '2008')\n",
    "\n",
    "# Inspect the updated dataset with the show() function\n",
    "ss_2008_data_cleaned.show(5, truncate = False)"
   ]
  },
  {
   "cell_type": "code",
   "execution_count": 218,
   "metadata": {
    "ExecuteTime": {
     "end_time": "2021-07-05T22:10:15.077018Z",
     "start_time": "2021-07-05T22:10:14.414236Z"
    }
   },
   "outputs": [
    {
     "data": {
      "text/html": [
       "<div>\n",
       "<style scoped>\n",
       "    .dataframe tbody tr th:only-of-type {\n",
       "        vertical-align: middle;\n",
       "    }\n",
       "\n",
       "    .dataframe tbody tr th {\n",
       "        vertical-align: top;\n",
       "    }\n",
       "\n",
       "    .dataframe thead th {\n",
       "        text-align: right;\n",
       "    }\n",
       "</style>\n",
       "<table border=\"1\" class=\"dataframe\">\n",
       "  <thead>\n",
       "    <tr style=\"text-align: right;\">\n",
       "      <th></th>\n",
       "      <th>Region Name</th>\n",
       "      <th>Variable Name</th>\n",
       "      <th>Age Name</th>\n",
       "      <th>2008</th>\n",
       "    </tr>\n",
       "  </thead>\n",
       "  <tbody>\n",
       "    <tr>\n",
       "      <th>0</th>\n",
       "      <td>Upper Nile</td>\n",
       "      <td>Population, Total (Number)</td>\n",
       "      <td>Total</td>\n",
       "      <td>964353</td>\n",
       "    </tr>\n",
       "    <tr>\n",
       "      <th>1</th>\n",
       "      <td>Upper Nile</td>\n",
       "      <td>Population, Total (Number)</td>\n",
       "      <td>0 to 4</td>\n",
       "      <td>150872</td>\n",
       "    </tr>\n",
       "    <tr>\n",
       "      <th>2</th>\n",
       "      <td>Upper Nile</td>\n",
       "      <td>Population, Total (Number)</td>\n",
       "      <td>5 to 9</td>\n",
       "      <td>151467</td>\n",
       "    </tr>\n",
       "    <tr>\n",
       "      <th>3</th>\n",
       "      <td>Upper Nile</td>\n",
       "      <td>Population, Total (Number)</td>\n",
       "      <td>10 to 14</td>\n",
       "      <td>126140</td>\n",
       "    </tr>\n",
       "    <tr>\n",
       "      <th>4</th>\n",
       "      <td>Upper Nile</td>\n",
       "      <td>Population, Total (Number)</td>\n",
       "      <td>15 to 19</td>\n",
       "      <td>103804</td>\n",
       "    </tr>\n",
       "  </tbody>\n",
       "</table>\n",
       "</div>"
      ],
      "text/plain": [
       "  Region Name               Variable Name  Age Name    2008\n",
       "0  Upper Nile  Population, Total (Number)     Total  964353\n",
       "1  Upper Nile  Population, Total (Number)    0 to 4  150872\n",
       "2  Upper Nile  Population, Total (Number)    5 to 9  151467\n",
       "3  Upper Nile  Population, Total (Number)  10 to 14  126140\n",
       "4  Upper Nile  Population, Total (Number)  15 to 19  103804"
      ]
     },
     "execution_count": 218,
     "metadata": {},
     "output_type": "execute_result"
    }
   ],
   "source": [
    "# Inspect the first 5 rows with the toPandas() method \n",
    "ss_2008_data_cleaned.limit(5).toPandas()"
   ]
  },
  {
   "cell_type": "markdown",
   "metadata": {},
   "source": [
    "### Changing Column Data Types\n",
    "\n",
    "To convert data from one data type to another, we need to import data types from `pyspark.sql.types` and `SQL functions` from `pyspark.sql.functions`. Here, we are using the wildcard, `*`."
   ]
  },
  {
   "cell_type": "code",
   "execution_count": 219,
   "metadata": {
    "ExecuteTime": {
     "end_time": "2021-07-05T22:10:30.597020Z",
     "start_time": "2021-07-05T22:10:30.262922Z"
    }
   },
   "outputs": [
    {
     "name": "stdout",
     "output_type": "stream",
     "text": [
      "root\n",
      " |-- Region Name: string (nullable = true)\n",
      " |-- Variable Name: string (nullable = true)\n",
      " |-- Age Name: string (nullable = true)\n",
      " |-- 2008: integer (nullable = true)\n",
      "\n",
      "None\n"
     ]
    }
   ],
   "source": [
    "# Import SQL data types and functions\n",
    "from pyspark.sql.types import *\n",
    "from pyspark.sql.functions import *\n",
    "\n",
    "# Change the population column data type to the integer data type \n",
    "# we use the backslash to break a long line of code\n",
    "ss_2008_data_cleaned = ss_2008_data_cleaned.withColumn('2008', \\\n",
    "                                      ss_2008_data_cleaned['2008'].cast(IntegerType()))\n",
    "\n",
    "# View the Schema\n",
    "print(ss_2008_data_cleaned.printSchema())"
   ]
  },
  {
   "cell_type": "code",
   "execution_count": 220,
   "metadata": {
    "ExecuteTime": {
     "end_time": "2021-07-05T22:10:42.864806Z",
     "start_time": "2021-07-05T22:10:42.113056Z"
    }
   },
   "outputs": [
    {
     "data": {
      "text/html": [
       "<div>\n",
       "<style scoped>\n",
       "    .dataframe tbody tr th:only-of-type {\n",
       "        vertical-align: middle;\n",
       "    }\n",
       "\n",
       "    .dataframe tbody tr th {\n",
       "        vertical-align: top;\n",
       "    }\n",
       "\n",
       "    .dataframe thead th {\n",
       "        text-align: right;\n",
       "    }\n",
       "</style>\n",
       "<table border=\"1\" class=\"dataframe\">\n",
       "  <thead>\n",
       "    <tr style=\"text-align: right;\">\n",
       "      <th></th>\n",
       "      <th>Region Name</th>\n",
       "      <th>Variable Name</th>\n",
       "      <th>Age Name</th>\n",
       "      <th>2008</th>\n",
       "    </tr>\n",
       "  </thead>\n",
       "  <tbody>\n",
       "    <tr>\n",
       "      <th>0</th>\n",
       "      <td>Upper Nile</td>\n",
       "      <td>Population, Total (Number)</td>\n",
       "      <td>Total</td>\n",
       "      <td>964353</td>\n",
       "    </tr>\n",
       "    <tr>\n",
       "      <th>1</th>\n",
       "      <td>Upper Nile</td>\n",
       "      <td>Population, Total (Number)</td>\n",
       "      <td>0 to 4</td>\n",
       "      <td>150872</td>\n",
       "    </tr>\n",
       "    <tr>\n",
       "      <th>2</th>\n",
       "      <td>Upper Nile</td>\n",
       "      <td>Population, Total (Number)</td>\n",
       "      <td>5 to 9</td>\n",
       "      <td>151467</td>\n",
       "    </tr>\n",
       "    <tr>\n",
       "      <th>3</th>\n",
       "      <td>Upper Nile</td>\n",
       "      <td>Population, Total (Number)</td>\n",
       "      <td>10 to 14</td>\n",
       "      <td>126140</td>\n",
       "    </tr>\n",
       "    <tr>\n",
       "      <th>4</th>\n",
       "      <td>Upper Nile</td>\n",
       "      <td>Population, Total (Number)</td>\n",
       "      <td>15 to 19</td>\n",
       "      <td>103804</td>\n",
       "    </tr>\n",
       "  </tbody>\n",
       "</table>\n",
       "</div>"
      ],
      "text/plain": [
       "  Region Name               Variable Name  Age Name    2008\n",
       "0  Upper Nile  Population, Total (Number)     Total  964353\n",
       "1  Upper Nile  Population, Total (Number)    0 to 4  150872\n",
       "2  Upper Nile  Population, Total (Number)    5 to 9  151467\n",
       "3  Upper Nile  Population, Total (Number)  10 to 14  126140\n",
       "4  Upper Nile  Population, Total (Number)  15 to 19  103804"
      ]
     },
     "execution_count": 220,
     "metadata": {},
     "output_type": "execute_result"
    }
   ],
   "source": [
    "# Inspect the first 5 rows with the toPandas() method \n",
    "ss_2008_data_cleaned.limit(5).toPandas()"
   ]
  },
  {
   "cell_type": "markdown",
   "metadata": {},
   "source": [
    "### Renaming Columns with the withColumnRenamed()\n",
    "\n",
    "Here we rename our columns of interest with the `withColumnRenamed()` method. Please note, you need to chain several withColumnRenamed() calls together to rename multiple columns. Call the withColumnRenamed(), enter the old name, and enter the new name to rename a column. For example, in the below chunk, **Region Name** is the old column name, and its new name is **State**."
   ]
  },
  {
   "cell_type": "code",
   "execution_count": 221,
   "metadata": {
    "ExecuteTime": {
     "end_time": "2021-07-05T22:10:51.590119Z",
     "start_time": "2021-07-05T22:10:51.051869Z"
    }
   },
   "outputs": [
    {
     "data": {
      "text/html": [
       "<div>\n",
       "<style scoped>\n",
       "    .dataframe tbody tr th:only-of-type {\n",
       "        vertical-align: middle;\n",
       "    }\n",
       "\n",
       "    .dataframe tbody tr th {\n",
       "        vertical-align: top;\n",
       "    }\n",
       "\n",
       "    .dataframe thead th {\n",
       "        text-align: right;\n",
       "    }\n",
       "</style>\n",
       "<table border=\"1\" class=\"dataframe\">\n",
       "  <thead>\n",
       "    <tr style=\"text-align: right;\">\n",
       "      <th></th>\n",
       "      <th>State</th>\n",
       "      <th>Gender</th>\n",
       "      <th>Age Category</th>\n",
       "      <th>Population</th>\n",
       "    </tr>\n",
       "  </thead>\n",
       "  <tbody>\n",
       "    <tr>\n",
       "      <th>0</th>\n",
       "      <td>Upper Nile</td>\n",
       "      <td>Population, Total (Number)</td>\n",
       "      <td>Total</td>\n",
       "      <td>964353</td>\n",
       "    </tr>\n",
       "    <tr>\n",
       "      <th>1</th>\n",
       "      <td>Upper Nile</td>\n",
       "      <td>Population, Total (Number)</td>\n",
       "      <td>0 to 4</td>\n",
       "      <td>150872</td>\n",
       "    </tr>\n",
       "    <tr>\n",
       "      <th>2</th>\n",
       "      <td>Upper Nile</td>\n",
       "      <td>Population, Total (Number)</td>\n",
       "      <td>5 to 9</td>\n",
       "      <td>151467</td>\n",
       "    </tr>\n",
       "    <tr>\n",
       "      <th>3</th>\n",
       "      <td>Upper Nile</td>\n",
       "      <td>Population, Total (Number)</td>\n",
       "      <td>10 to 14</td>\n",
       "      <td>126140</td>\n",
       "    </tr>\n",
       "  </tbody>\n",
       "</table>\n",
       "</div>"
      ],
      "text/plain": [
       "        State                      Gender Age Category  Population\n",
       "0  Upper Nile  Population, Total (Number)        Total      964353\n",
       "1  Upper Nile  Population, Total (Number)       0 to 4      150872\n",
       "2  Upper Nile  Population, Total (Number)       5 to 9      151467\n",
       "3  Upper Nile  Population, Total (Number)     10 to 14      126140"
      ]
     },
     "execution_count": 221,
     "metadata": {},
     "output_type": "execute_result"
    }
   ],
   "source": [
    "# Renaming columns\n",
    "ss_2008_data_cleaned = ss_2008_data_cleaned.withColumnRenamed('Region Name', 'State')\\\n",
    ".withColumnRenamed('2008','Population').withColumnRenamed('Variable Name', 'Gender')\\\n",
    ".withColumnRenamed('Age Name', 'Age Category')\n",
    "\n",
    "# View the first 4 rows with the toPandas()\n",
    "ss_2008_data_cleaned.limit(4).toPandas()"
   ]
  },
  {
   "cell_type": "markdown",
   "metadata": {},
   "source": [
    "### Checking Row and Column Counts\n",
    "\n",
    "We display the number of rows and the number of columns with the `print()` function."
   ]
  },
  {
   "cell_type": "code",
   "execution_count": 236,
   "metadata": {
    "ExecuteTime": {
     "end_time": "2021-07-05T23:46:32.784253Z",
     "start_time": "2021-07-05T23:46:31.454030Z"
    }
   },
   "outputs": [
    {
     "name": "stdout",
     "output_type": "stream",
     "text": [
      "Your dataset has 453 rows and 4 columns.\n"
     ]
    }
   ],
   "source": [
    "# Inspect the number of rows and columns\n",
    "print('Your dataset has', ss_2008_data_cleaned.count(), 'rows and', len(ss_2008_data_cleaned.columns), 'columns.')"
   ]
  },
  {
   "cell_type": "markdown",
   "metadata": {},
   "source": [
    "### Removing NAs\n",
    "\n",
    "Here we remove nas with the `na.drop()` method. However, it is imperative to be careful when dropping nas as this may negatively impact your data. "
   ]
  },
  {
   "cell_type": "code",
   "execution_count": 223,
   "metadata": {
    "ExecuteTime": {
     "end_time": "2021-07-05T22:11:07.870512Z",
     "start_time": "2021-07-05T22:11:07.227929Z"
    }
   },
   "outputs": [
    {
     "data": {
      "text/html": [
       "<div>\n",
       "<style scoped>\n",
       "    .dataframe tbody tr th:only-of-type {\n",
       "        vertical-align: middle;\n",
       "    }\n",
       "\n",
       "    .dataframe tbody tr th {\n",
       "        vertical-align: top;\n",
       "    }\n",
       "\n",
       "    .dataframe thead th {\n",
       "        text-align: right;\n",
       "    }\n",
       "</style>\n",
       "<table border=\"1\" class=\"dataframe\">\n",
       "  <thead>\n",
       "    <tr style=\"text-align: right;\">\n",
       "      <th></th>\n",
       "      <th>State</th>\n",
       "      <th>Gender</th>\n",
       "      <th>Age Category</th>\n",
       "      <th>Population</th>\n",
       "    </tr>\n",
       "  </thead>\n",
       "  <tbody>\n",
       "    <tr>\n",
       "      <th>0</th>\n",
       "      <td>Upper Nile</td>\n",
       "      <td>Population, Total (Number)</td>\n",
       "      <td>Total</td>\n",
       "      <td>964353</td>\n",
       "    </tr>\n",
       "    <tr>\n",
       "      <th>1</th>\n",
       "      <td>Upper Nile</td>\n",
       "      <td>Population, Total (Number)</td>\n",
       "      <td>0 to 4</td>\n",
       "      <td>150872</td>\n",
       "    </tr>\n",
       "    <tr>\n",
       "      <th>2</th>\n",
       "      <td>Upper Nile</td>\n",
       "      <td>Population, Total (Number)</td>\n",
       "      <td>5 to 9</td>\n",
       "      <td>151467</td>\n",
       "    </tr>\n",
       "    <tr>\n",
       "      <th>3</th>\n",
       "      <td>Upper Nile</td>\n",
       "      <td>Population, Total (Number)</td>\n",
       "      <td>10 to 14</td>\n",
       "      <td>126140</td>\n",
       "    </tr>\n",
       "    <tr>\n",
       "      <th>4</th>\n",
       "      <td>Upper Nile</td>\n",
       "      <td>Population, Total (Number)</td>\n",
       "      <td>15 to 19</td>\n",
       "      <td>103804</td>\n",
       "    </tr>\n",
       "  </tbody>\n",
       "</table>\n",
       "</div>"
      ],
      "text/plain": [
       "        State                      Gender Age Category  Population\n",
       "0  Upper Nile  Population, Total (Number)        Total      964353\n",
       "1  Upper Nile  Population, Total (Number)       0 to 4      150872\n",
       "2  Upper Nile  Population, Total (Number)       5 to 9      151467\n",
       "3  Upper Nile  Population, Total (Number)     10 to 14      126140\n",
       "4  Upper Nile  Population, Total (Number)     15 to 19      103804"
      ]
     },
     "execution_count": 223,
     "metadata": {},
     "output_type": "execute_result"
    }
   ],
   "source": [
    "# Drop the rows with nas or missing values\n",
    "ss_2008_census_df = ss_2008_data_cleaned.na.drop()\n",
    "ss_2008_census_df.limit(5).toPandas()"
   ]
  },
  {
   "cell_type": "code",
   "execution_count": 239,
   "metadata": {
    "ExecuteTime": {
     "end_time": "2021-07-05T23:49:04.259529Z",
     "start_time": "2021-07-05T23:49:03.561893Z"
    }
   },
   "outputs": [
    {
     "name": "stdout",
     "output_type": "stream",
     "text": [
      "Your dataset has 300 rows and 4 columns.\n"
     ]
    }
   ],
   "source": [
    "# Verify the dimensions of the dataset\n",
    "print('Your dataset has', ss_2008_census_df.count(), 'rows and', len(ss_2008_census_df.columns), 'columns.')"
   ]
  },
  {
   "cell_type": "markdown",
   "metadata": {},
   "source": [
    "### Splitting Column Values with the Split()\n",
    "\n",
    "Earlier, we saw that the Gender column is a 3-part column; comprising _Population_, _'Total/Female/Male'_, and _(Number)_. However, we are only interested in the male and female rows. So, we clean this column by splitting it with the `split()` method and then retain the middle potion, or the second index (1)."
   ]
  },
  {
   "cell_type": "code",
   "execution_count": 225,
   "metadata": {
    "ExecuteTime": {
     "end_time": "2021-07-05T22:11:20.299196Z",
     "start_time": "2021-07-05T22:11:19.584927Z"
    }
   },
   "outputs": [
    {
     "name": "stdout",
     "output_type": "stream",
     "text": [
      "+----------+------+------------+----------+\n",
      "|State     |gender|Age Category|Population|\n",
      "+----------+------+------------+----------+\n",
      "|Upper Nile|Total |Total       |964353    |\n",
      "|Upper Nile|Total |0 to 4      |150872    |\n",
      "|Upper Nile|Total |5 to 9      |151467    |\n",
      "|Upper Nile|Total |10 to 14    |126140    |\n",
      "|Upper Nile|Total |15 to 19    |103804    |\n",
      "|Upper Nile|Total |20 to 24    |82588     |\n",
      "|Upper Nile|Total |25 to 29    |76754     |\n",
      "|Upper Nile|Total |30 to 34    |63134     |\n",
      "|Upper Nile|Total |35 to 39    |56806     |\n",
      "|Upper Nile|Total |40 to 44    |42139     |\n",
      "+----------+------+------------+----------+\n",
      "only showing top 10 rows\n",
      "\n"
     ]
    }
   ],
   "source": [
    "# Transform the gender column with the split() method\n",
    "ss_2008_census_df = ss_2008_census_df.withColumn('gender', split(ss_2008_census_df['Gender'], ' ').getItem(1))\n",
    "\n",
    "# Inspect the first 10 rows\n",
    "ss_2008_census_df.show(10, truncate=False)"
   ]
  },
  {
   "cell_type": "code",
   "execution_count": 226,
   "metadata": {
    "ExecuteTime": {
     "end_time": "2021-07-05T22:11:25.199030Z",
     "start_time": "2021-07-05T22:11:24.586800Z"
    }
   },
   "outputs": [
    {
     "name": "stdout",
     "output_type": "stream",
     "text": [
      "+----------+------+------------+----------+\n",
      "|State     |gender|Age Category|Population|\n",
      "+----------+------+------------+----------+\n",
      "|Upper Nile|Male  |Total       |525430    |\n",
      "|Upper Nile|Male  |0 to 4      |82690     |\n",
      "|Upper Nile|Male  |5 to 9      |83744     |\n",
      "|Upper Nile|Male  |10 to 14    |71027     |\n",
      "|Upper Nile|Male  |15 to 19    |57387     |\n",
      "|Upper Nile|Male  |20 to 24    |42521     |\n",
      "|Upper Nile|Male  |25 to 29    |38795     |\n",
      "|Upper Nile|Male  |30 to 34    |32236     |\n",
      "|Upper Nile|Male  |35 to 39    |30228     |\n",
      "|Upper Nile|Male  |40 to 44    |22290     |\n",
      "+----------+------+------------+----------+\n",
      "only showing top 10 rows\n",
      "\n"
     ]
    }
   ],
   "source": [
    "# Filter the gender column to keep only the rows with 'female' and 'male' in them\n",
    "ss_2008_census_df = ss_2008_census_df.filter(ss_2008_census_df['gender'] != \"Total\")\n",
    "\n",
    "# Inspect the first 10 rows\n",
    "ss_2008_census_df.show(10, truncate=False)"
   ]
  },
  {
   "cell_type": "code",
   "execution_count": 240,
   "metadata": {
    "ExecuteTime": {
     "end_time": "2021-07-06T00:24:10.786891Z",
     "start_time": "2021-07-06T00:24:09.636817Z"
    }
   },
   "outputs": [
    {
     "name": "stdout",
     "output_type": "stream",
     "text": [
      "Your dataset has 300 rows and 4 columns.\n"
     ]
    }
   ],
   "source": [
    "# Re-inspect the number of rows and the number of columns\n",
    "print('Your dataset has',  ss_2008_census_df.count(), 'rows and', len(ss_2008_census_df.columns),'columns.')"
   ]
  },
  {
   "cell_type": "markdown",
   "metadata": {
    "ExecuteTime": {
     "end_time": "2021-07-05T21:39:35.519916Z",
     "start_time": "2021-07-05T21:39:35.506730Z"
    }
   },
   "source": [
    "### Selecting Row Values with the filter()\n",
    "\n",
    "Below, we remove the rows with the 'Total' in them."
   ]
  },
  {
   "cell_type": "code",
   "execution_count": 228,
   "metadata": {
    "ExecuteTime": {
     "end_time": "2021-07-05T22:11:34.696888Z",
     "start_time": "2021-07-05T22:11:33.998179Z"
    }
   },
   "outputs": [
    {
     "name": "stdout",
     "output_type": "stream",
     "text": [
      "+----------+------+------------+----------+\n",
      "|State     |gender|Age Category|Population|\n",
      "+----------+------+------------+----------+\n",
      "|Upper Nile|Male  |0 to 4      |82690     |\n",
      "|Upper Nile|Male  |5 to 9      |83744     |\n",
      "|Upper Nile|Male  |10 to 14    |71027     |\n",
      "|Upper Nile|Male  |15 to 19    |57387     |\n",
      "|Upper Nile|Male  |20 to 24    |42521     |\n",
      "|Upper Nile|Male  |25 to 29    |38795     |\n",
      "|Upper Nile|Male  |30 to 34    |32236     |\n",
      "|Upper Nile|Male  |35 to 39    |30228     |\n",
      "|Upper Nile|Male  |40 to 44    |22290     |\n",
      "|Upper Nile|Male  |45 to 49    |18163     |\n",
      "+----------+------+------------+----------+\n",
      "only showing top 10 rows\n",
      "\n"
     ]
    }
   ],
   "source": [
    "# Modify the Age Category column\n",
    "ss_2008_census_df_1 = ss_2008_census_df.filter(ss_2008_census_df['Age Category'] != \"Total\")\n",
    "\n",
    "ss_2008_census_df_1.show(10, truncate=False)"
   ]
  },
  {
   "cell_type": "code",
   "execution_count": 242,
   "metadata": {
    "ExecuteTime": {
     "end_time": "2021-07-06T00:26:52.080328Z",
     "start_time": "2021-07-06T00:26:51.142800Z"
    }
   },
   "outputs": [
    {
     "name": "stdout",
     "output_type": "stream",
     "text": [
      "Your dataset has 280 rows and 4 columns.\n"
     ]
    }
   ],
   "source": [
    "# Re-inspect the number of rows and columns\n",
    "print('Your dataset has', ss_2008_census_df_1.count(), 'rows and', len(ss_2008_census_df_1.columns), 'columns.') "
   ]
  },
  {
   "cell_type": "markdown",
   "metadata": {},
   "source": [
    "### Replacing Column Values\n",
    "\n",
    "In the below chunk, we regroup the __Age Category__ values to reduce the number of classes. While there are multiple methods for transforming column values, we opted to use the `PySpark` replace() method."
   ]
  },
  {
   "cell_type": "code",
   "execution_count": 230,
   "metadata": {
    "ExecuteTime": {
     "end_time": "2021-07-05T22:11:46.890872Z",
     "start_time": "2021-07-05T22:11:46.245344Z"
    }
   },
   "outputs": [
    {
     "name": "stdout",
     "output_type": "stream",
     "text": [
      "+----------+------+------------+----------+\n",
      "|State     |gender|Age Category|Population|\n",
      "+----------+------+------------+----------+\n",
      "|Upper Nile|Male  |0-9         |82690     |\n",
      "|Upper Nile|Male  |0-9         |83744     |\n",
      "|Upper Nile|Male  |10-19       |71027     |\n",
      "|Upper Nile|Male  |10-19       |57387     |\n",
      "|Upper Nile|Male  |20-29       |42521     |\n",
      "+----------+------+------------+----------+\n",
      "only showing top 5 rows\n",
      "\n"
     ]
    }
   ],
   "source": [
    "# Combine Age Category values\n",
    "ss_2008_census_final_df = ss_2008_census_df_1.replace(['0 to 4',\n",
    "                                                     '5 to 9',\n",
    "                                                     '10 to 14',\n",
    "                                                     '15 to 19',\n",
    "                                                     '20 to 24',\n",
    "                                                     '25 to 29',\n",
    "                                                     '30 to 34',\n",
    "                                                     '35 to 39',\n",
    "                                                     '40 to 44',\n",
    "                                                     '45 to 49',\n",
    "                                                     '50 to 54',\n",
    "                                                     '55 to 59',\n",
    "                                                     '60 to 64',\n",
    "                                                     '65+'], \n",
    "                                                    ['0-9', '0-9',\n",
    "                                                    '10-19', '10-19',\n",
    "                                                     '20-29', '20-29',\n",
    "                                                     '30-39', '30-39',\n",
    "                                                     '40-49', '40-49',\n",
    "                                                     '50-59', '50-59',\n",
    "                                                     '60+', '60+'\n",
    "                                                    ], 'Age Category')\n",
    "\n",
    "\n",
    "# Inspect the first 5 rows\n",
    "ss_2008_census_final_df.show(5, False)"
   ]
  },
  {
   "cell_type": "markdown",
   "metadata": {},
   "source": [
    "### Converting Column Values into a List"
   ]
  },
  {
   "cell_type": "code",
   "execution_count": 231,
   "metadata": {
    "ExecuteTime": {
     "end_time": "2021-07-05T22:11:54.587470Z",
     "start_time": "2021-07-05T22:11:52.805982Z"
    }
   },
   "outputs": [
    {
     "data": {
      "text/plain": [
       "[Row(Age Category='30-39'),\n",
       " Row(Age Category='0-9'),\n",
       " Row(Age Category='20-29'),\n",
       " Row(Age Category='60+'),\n",
       " Row(Age Category='10-19'),\n",
       " Row(Age Category='40-49'),\n",
       " Row(Age Category='50-59')]"
      ]
     },
     "execution_count": 231,
     "metadata": {},
     "output_type": "execute_result"
    }
   ],
   "source": [
    "ss_2008_census_final_df.select('Age Category').distinct().collect()"
   ]
  },
  {
   "cell_type": "code",
   "execution_count": 243,
   "metadata": {
    "ExecuteTime": {
     "end_time": "2021-07-06T00:31:20.521242Z",
     "start_time": "2021-07-06T00:31:19.635357Z"
    }
   },
   "outputs": [
    {
     "name": "stdout",
     "output_type": "stream",
     "text": [
      "Your dataset has 280 rows and 4 columns.\n"
     ]
    }
   ],
   "source": [
    "# Re-inspect the number of rows and the number of columns\n",
    "print('Your dataset has', ss_2008_census_final_df.count(), 'rows and', len(ss_2008_census_final_df.columns), 'columns.')"
   ]
  },
  {
   "cell_type": "markdown",
   "metadata": {},
   "source": [
    "### Summarizing the Dataset\n",
    "\n",
    "In the next three chunks, we group the data by various columns, compute the sum of the population column, and then display the results. We will accomplish this using the `groupBy()`, `agg()`, and `orderBy()` methods."
   ]
  },
  {
   "cell_type": "code",
   "execution_count": 233,
   "metadata": {
    "ExecuteTime": {
     "end_time": "2021-07-05T22:12:05.420136Z",
     "start_time": "2021-07-05T22:12:03.476257Z"
    }
   },
   "outputs": [
    {
     "name": "stdout",
     "output_type": "stream",
     "text": [
      "+-----------------------+----------------+\n",
      "|State                  |Total Population|\n",
      "+-----------------------+----------------+\n",
      "|Jonglei                |1358602         |\n",
      "|Central Equatoria      |1103557         |\n",
      "|Warrap                 |972928          |\n",
      "|Upper Nile             |964353          |\n",
      "|Eastern Equatoria      |906161          |\n",
      "|Northern Bahr el Ghazal|720898          |\n",
      "|Lakes                  |695730          |\n",
      "|Western Equatoria      |619029          |\n",
      "|Unity                  |585801          |\n",
      "|Western Bahr el Ghazal |333431          |\n",
      "+-----------------------+----------------+\n",
      "\n"
     ]
    }
   ],
   "source": [
    "# Compute the state totals\n",
    "state_totals = ss_2008_census_final_df.groupBy(\"State\")\\\n",
    ".agg(sum(\"Population\").alias('Total Population')).orderBy(col('Total Population').desc())\n",
    "\n",
    "# Display the results\n",
    "state_totals.show(truncate = False)"
   ]
  },
  {
   "cell_type": "code",
   "execution_count": 234,
   "metadata": {
    "ExecuteTime": {
     "end_time": "2021-07-05T22:12:09.144126Z",
     "start_time": "2021-07-05T22:12:07.662683Z"
    }
   },
   "outputs": [
    {
     "name": "stdout",
     "output_type": "stream",
     "text": [
      "+-----------------------+------+----------+\n",
      "|State                  |Gender|Population|\n",
      "+-----------------------+------+----------+\n",
      "|Jonglei                |Male  |734327    |\n",
      "|Jonglei                |Female|624275    |\n",
      "|Central Equatoria      |Male  |581722    |\n",
      "|Upper Nile             |Male  |525430    |\n",
      "|Central Equatoria      |Female|521835    |\n",
      "|Warrap                 |Female|502194    |\n",
      "|Warrap                 |Male  |470734    |\n",
      "|Eastern Equatoria      |Male  |465187    |\n",
      "|Eastern Equatoria      |Female|440974    |\n",
      "|Upper Nile             |Female|438923    |\n",
      "|Northern Bahr el Ghazal|Female|372608    |\n",
      "|Lakes                  |Male  |365880    |\n",
      "|Northern Bahr el Ghazal|Male  |348290    |\n",
      "|Lakes                  |Female|329850    |\n",
      "|Western Equatoria      |Male  |318443    |\n",
      "|Western Equatoria      |Female|300586    |\n",
      "|Unity                  |Male  |300247    |\n",
      "|Unity                  |Female|285554    |\n",
      "|Western Bahr el Ghazal |Male  |177040    |\n",
      "|Western Bahr el Ghazal |Female|156391    |\n",
      "+-----------------------+------+----------+\n",
      "\n"
     ]
    }
   ],
   "source": [
    "# Compute the state totals by gender\n",
    "state_totals_by_gender = ss_2008_census_final_df.groupBy('State', 'Gender')\\\n",
    ".agg(sum(\"Population\").alias('Population')).orderBy(col('Population').desc())\n",
    "state_totals\n",
    "\n",
    "# Display the results \n",
    "state_totals_by_gender.show(truncate = False)"
   ]
  },
  {
   "cell_type": "code",
   "execution_count": 235,
   "metadata": {
    "ExecuteTime": {
     "end_time": "2021-07-05T22:12:13.154502Z",
     "start_time": "2021-07-05T22:12:11.404846Z"
    }
   },
   "outputs": [
    {
     "name": "stdout",
     "output_type": "stream",
     "text": [
      "+-----------------------+------+------------+----------+\n",
      "|State                  |Gender|Age Category|Population|\n",
      "+-----------------------+------+------------+----------+\n",
      "|Jonglei                |Male  |0-9         |236691    |\n",
      "|Jonglei                |Female|0-9         |185854    |\n",
      "|Jonglei                |Male  |10-19       |182491    |\n",
      "|Central Equatoria      |Male  |0-9         |169365    |\n",
      "|Warrap                 |Male  |0-9         |168004    |\n",
      "|Upper Nile             |Male  |0-9         |166434    |\n",
      "|Warrap                 |Female|0-9         |161900    |\n",
      "|Central Equatoria      |Female|0-9         |155756    |\n",
      "|Jonglei                |Female|10-19       |143194    |\n",
      "|Eastern Equatoria      |Male  |0-9         |140458    |\n",
      "|Central Equatoria      |Male  |10-19       |139570    |\n",
      "|Upper Nile             |Female|0-9         |135905    |\n",
      "|Eastern Equatoria      |Male  |10-19       |133946    |\n",
      "|Northern Bahr el Ghazal|Male  |0-9         |133311    |\n",
      "|Upper Nile             |Male  |10-19       |128414    |\n",
      "|Northern Bahr el Ghazal|Female|0-9         |128164    |\n",
      "|Central Equatoria      |Female|10-19       |127336    |\n",
      "|Eastern Equatoria      |Female|0-9         |126538    |\n",
      "|Eastern Equatoria      |Female|10-19       |117104    |\n",
      "|Jonglei                |Female|20-29       |116624    |\n",
      "+-----------------------+------+------------+----------+\n",
      "only showing top 20 rows\n",
      "\n"
     ]
    }
   ],
   "source": [
    "# Compute the state totals by gender and age category\n",
    "state_totals_by_gender_n_age = ss_2008_census_final_df.groupBy('State', 'Gender', 'Age Category')\\\n",
    ".agg(sum(\"Population\").alias('Population')).orderBy(col('Population').desc(), col('State'))\n",
    "\n",
    "# Print the results\n",
    "state_totals_by_gender_n_age.show(truncate = False)"
   ]
  },
  {
   "cell_type": "markdown",
   "metadata": {
    "ExecuteTime": {
     "end_time": "2021-07-05T17:07:12.832778Z",
     "start_time": "2021-07-05T17:07:12.827367Z"
    }
   },
   "source": [
    "## Closing Remarks"
   ]
  },
  {
   "cell_type": "markdown",
   "metadata": {},
   "source": [
    "This article has just scratched the surface of __Data wrangling with PySpark__, but we hope it will help you get started in PySpark and data science in general. \n",
    "\n",
    "With that said, please follow me on Twitter @tongakuot, LinkedIn @tongakuot, and GitHub @alierwai for more data science, Python, R, statistics, mathematics, PySpark, and Shiny tutorials, and articles."
   ]
  },
  {
   "cell_type": "markdown",
   "metadata": {},
   "source": [
    "## Acknowledgements\n",
    "\n",
    "We are grateful to Layla AI and Mike Cohen for their phenomenal courses on PySpark and Master Math by Coding in Python, respectively."
   ]
  }
 ],
 "metadata": {
  "kernelspec": {
   "display_name": "Python 3",
   "language": "python",
   "name": "python3"
  },
  "language_info": {
   "codemirror_mode": {
    "name": "ipython",
    "version": 3
   },
   "file_extension": ".py",
   "mimetype": "text/x-python",
   "name": "python",
   "nbconvert_exporter": "python",
   "pygments_lexer": "ipython3",
   "version": "3.8.5"
  },
  "latex_envs": {
   "LaTeX_envs_menu_present": true,
   "autoclose": false,
   "autocomplete": true,
   "bibliofile": "biblio.bib",
   "cite_by": "apalike",
   "current_citInitial": 1,
   "eqLabelWithNumbers": true,
   "eqNumInitial": 1,
   "hotkeys": {
    "equation": "Ctrl-E",
    "itemize": "Ctrl-I"
   },
   "labels_anchors": false,
   "latex_user_defs": false,
   "report_style_numbering": false,
   "user_envs_cfg": false
  }
 },
 "nbformat": 4,
 "nbformat_minor": 4
}
